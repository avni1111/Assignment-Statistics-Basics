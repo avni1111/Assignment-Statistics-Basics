{
  "nbformat": 4,
  "nbformat_minor": 0,
  "metadata": {
    "colab": {
      "provenance": []
    },
    "kernelspec": {
      "name": "python3",
      "display_name": "Python 3"
    },
    "language_info": {
      "name": "python"
    }
  },
  "cells": [
    {
      "cell_type": "markdown",
      "source": [
        "1.What is statistics, and why is it important?\n",
        "->Statistics is a branch of mathematics focused on collecting, analyzing, interpreting, and presenting data. It's important because it helps us understand patterns, make informed decisions, and draw meaningful conclusions from information, even when it's complex or uncertain.\n"
      ],
      "metadata": {
        "id": "UgGxCpZAHjwo"
      }
    },
    {
      "cell_type": "markdown",
      "source": [
        "2.What are the two main types of statistics?\n",
        "->The two main types of statistics are descriptive statistics and inferential statistics.\n"
      ],
      "metadata": {
        "id": "-qqCB6yhH8eh"
      }
    },
    {
      "cell_type": "markdown",
      "source": [
        "3.What are descriptive statistics?\n",
        "->Descriptive statistics are used to summarize and describe the characteristics of a dataset.\n",
        "\n",
        "\n",
        "\n",
        "\n",
        "\n",
        "\n",
        "\n",
        "\n",
        "\n",
        "\n",
        "\n",
        "\n",
        "\n",
        "\n",
        "\n",
        "\n",
        "\n",
        "\n"
      ],
      "metadata": {
        "id": "F9f-qC0nIMfI"
      }
    },
    {
      "cell_type": "markdown",
      "source": [
        "4.What is inferential statistics?\n",
        "Inferential statistics uses sample data to draw conclusions and make predictions about a larger population.\n"
      ],
      "metadata": {
        "id": "MiSL1SY7Id96"
      }
    },
    {
      "cell_type": "markdown",
      "source": [
        "5.What is sampling in statistics?\n",
        "->In statistics, sampling is the process of selecting a subset of individuals or data points from a larger population to study and draw conclusions about the entire population.\n"
      ],
      "metadata": {
        "id": "-Vh-AWgsIsD7"
      }
    },
    {
      "cell_type": "markdown",
      "source": [
        "6.What are the different types of sampling methods?\n",
        "->Sampling methods can be broadly categorized into probability (or random) sampling and non-probability (or non-random) sampling.\n"
      ],
      "metadata": {
        "id": "7lBNisa-I9w4"
      }
    },
    {
      "cell_type": "markdown",
      "source": [
        "7.What is the difference between random and non-random sampling?\n",
        "->Random and non-random sampling are two main approaches to selecting a sample from a population for research or analysis. The key difference lies in the selection process: random sampling uses chance to ensure each member has an equal opportunity of being selected, while non-random sampling uses criteria like convenience, judgment, or specific researcher choices."
      ],
      "metadata": {
        "id": "eJpTi__MJOyx"
      }
    },
    {
      "cell_type": "markdown",
      "source": [
        "8.Define and give examples of qualitative and quantitative data?\n",
        "->**Qualitative Data:**\n",
        "Qualitative data focuses on descriptions and interpretations rather than numerical values. It explores qualities, characteristics, and attributes.\n",
        "**Examples:**\n",
        "Colors: Red, blue, green.\n",
        "Textures: Smooth, rough, soft.\n",
        "Opinions: \"This is a great product,\" \"I don't like the service\".\n",
        "Descriptions: \"The building is tall and made of stone\".\n",
        "Feelings: Happy, sad, angry.\n",
        "Taste: Sweet, sour, salty, bitter.\n",
        "Sounds: Loud, quiet, melodic.\n",
        "Observations: \"The cat is sleeping under the table.\"\n",
        "\n",
        "**Quantitative Data**:\n",
        "Quantitative data deals with numerical values that can be measured or counted. It provides objective measurements.\n",
        "**Examples:**\n",
        "Height: 5 feet 10 inches.\n",
        "Weight: 150 pounds.\n",
        "Temperature: 25 degrees Celsius.\n",
        "Age: 30 years old.\n",
        "Number of students: 25.\n",
        "Test scores: 85 out of 100.\n",
        "Distance: 10 kilometers.\n",
        "Time: 2 hours.\n",
        "Income: $50,000 per year.\n",
        "Population: 1 million people.\n"
      ],
      "metadata": {
        "id": "6x5M9coYJkhj"
      }
    },
    {
      "cell_type": "markdown",
      "source": [
        "9. What are the different types of data in statistics?\n",
        "->In statistics, data can be broadly classified into two main types: qualitative (or categorical) data and quantitative (or numerical) data.\n"
      ],
      "metadata": {
        "id": "PT_lN7neKbY9"
      }
    },
    {
      "cell_type": "markdown",
      "source": [
        "10.Explain nominal, ordinal, interval, and ratio levels of measurement?\n",
        "-> Nominal data are categories with no inherent order. Ordinal data adds the ability to rank or order the categories. Interval data allows for meaningful differences between values. Ratio data adds a true zero point, allowing for ratios to be calculated.\n"
      ],
      "metadata": {
        "id": "eLh1r4SQKtUj"
      }
    },
    {
      "cell_type": "markdown",
      "source": [
        "11.What is the measure of central tendency?\n",
        "->The most common measures of central tendency are the mean, median, and mode.\n"
      ],
      "metadata": {
        "id": "3a-BNNuSZBC5"
      }
    },
    {
      "cell_type": "markdown",
      "source": [
        "12.Define mean, median, and mode?\n",
        "->**Mean**\n",
        "The mean is the average of a dataset.\n",
        "It is calculated by summing all values and dividing by the count of values.\n",
        "Formula: \\(\\text{Mean}=\\frac{\\sum x}{n}\\), where \\(\\sum x\\) is the sum of values and \\(n\\) is the number of values.\n",
        "2.** Median**\n",
        " The median is the middle value in a sorted dataset.\n",
        " First, arrange the data in ascending or descending order.\n",
        " If \\(n\\) is odd, the median is the middle value.\n",
        " If \\(n\\) is even, the median is the average of the two middle values.\n",
        "\n",
        "3.**Mode**\n",
        "The mode is the value that appears most frequently in a dataset.\n",
        "A dataset can have one mode (unimodal), multiple modes (multimodal), or no mode.\n",
        "\n",
        "\n",
        "\n",
        "\n",
        "\n",
        "\n",
        "\n"
      ],
      "metadata": {
        "id": "i1cZDe6mZRhv"
      }
    },
    {
      "cell_type": "markdown",
      "source": [
        "13. What is the significance of the measure of central tendency?\n",
        "->Measures of central tendency provide a concise summary of a dataset, allowing analysts to quickly grasp the overall distribution and characteristics of the data.\n"
      ],
      "metadata": {
        "id": "y6OiCypCaVjo"
      }
    },
    {
      "cell_type": "markdown",
      "source": [
        "14.What is variance, and how is it calculated?->Variance is a statistical measure that quantifies the amount of dispersion or variability within a set of data points"
      ],
      "metadata": {
        "id": "8uR8ApF5amjp"
      }
    },
    {
      "cell_type": "markdown",
      "source": [
        "15.What is standard deviation, and why is it important?\n",
        "->Standard deviation is a statistical measure that quantifies the amount of variation or dispersion of a set of values from its mean (average).\n"
      ],
      "metadata": {
        "id": "Z_YI4xwKa4vD"
      }
    },
    {
      "cell_type": "markdown",
      "source": [
        "16.Define and explain the term range in statistics?\n",
        "->In statistics, the range is a simple measure of variability that represents the difference between the highest and lowest values in a dataset.\n"
      ],
      "metadata": {
        "id": "bjFEYEgHbInt"
      }
    },
    {
      "cell_type": "markdown",
      "source": [
        "17.What is the difference between variance and standard deviation?\n",
        "->Variance and standard deviation are both measures of data dispersion, but standard deviation is the square root of the variance.\n",
        "Variance quantifies the average squared difference of data points from the mean, while standard deviation represents the spread of data around the mean, expressed in the same units as the original data.\n"
      ],
      "metadata": {
        "id": "6mZGNpHabZl-"
      }
    },
    {
      "cell_type": "markdown",
      "source": [
        "18.What is skewness in a dataset?\n",
        "->Skewness in a dataset refers to the measure of the asymmetry or lack of symmetry in the distribution of data points around its mean.\n"
      ],
      "metadata": {
        "id": "m8pufUyhbuhn"
      }
    },
    {
      "cell_type": "markdown",
      "source": [
        "19.What does it mean if a dataset is positively or negatively skewed?\n",
        "->In statistics, skewness describes the asymmetry of a data distribution. A positively skewed distribution has a longer tail on the right side, meaning most values are clustered on the left with a few high outliers. Conversely, a negatively skewed distribution has a longer tail on the left, with most values clustered on the right and some low outliers.\n"
      ],
      "metadata": {
        "id": "TdTtD0NQb-BF"
      }
    },
    {
      "cell_type": "markdown",
      "source": [
        "20.Define and explain kurtosis?\n",
        "->Kurtosis is a statistical measure that describes the shape of a probability distribution, specifically the \"peakedness\" or \"tailedness\" of the distribution relative to a normal distribution.\n"
      ],
      "metadata": {
        "id": "EHOi8MrIcK8B"
      }
    },
    {
      "cell_type": "markdown",
      "source": [
        "21.What is the purpose of covariance?\n",
        "->The covariance equation is used to determine the direction of the relationship between two variables.\n"
      ],
      "metadata": {
        "id": "nEqFHa5dcauf"
      }
    },
    {
      "cell_type": "markdown",
      "source": [
        "22.What does correlation measure in statistics?\n",
        "->In statistics, correlation measures the strength and direction of a relationship between two variables.\n"
      ],
      "metadata": {
        "id": "RgyKNU55c4wT"
      }
    },
    {
      "cell_type": "markdown",
      "source": [
        "23.What is the difference between covariance and correlation?\n",
        "->Covariance and correlation both measure the relationship between two variables, but they differ in how they represent the strength and scale of that relationship. Covariance indicates the direction of the relationship (positive or negative), while correlation also indicates the strength of that relationship and is standardized to a range between -1 and +1.\n"
      ],
      "metadata": {
        "id": "NsqCA9pNdQlP"
      }
    },
    {
      "cell_type": "markdown",
      "source": [
        "24.What are some real-world applications of statistics?\n",
        "->Statistics are used in a wide variety of fields to analyze data, identify trends, and make informed decisions.\n"
      ],
      "metadata": {
        "id": "qLslu3O5dlio"
      }
    },
    {
      "cell_type": "markdown",
      "source": [
        "                **Practical**"
      ],
      "metadata": {
        "id": "uyiQn94cd2_z"
      }
    },
    {
      "cell_type": "markdown",
      "source": [
        "1.How do you calculate the mean, median, and mode of a dataset?\n",
        "->To calculate the mean, median, and mode of a dataset:\n",
        "Mean: Add up all the numbers in the dataset and divide the sum by the total number of items in the dataset.\n",
        "Median: Arrange the dataset in order from smallest to largest. The median is the middle number in the ordered list. If there's an even number of items, the median is the average of the two middle numbers.\n",
        "Mode: The mode is the number that appears most frequently in the dataset.\n",
        "\n",
        "Example:\n",
        "Let's say your dataset is: 2, 5, 3, 5, 8, 1, 5\n",
        "Mean: (2 + 5 + 3 + 5 + 8 + 1 + 5) / 7 = 29 / 7 = 4.14\n",
        "Median: 1, 2, 3, 5, 5, 5, 8. The median is 5\n",
        "Mode: 5 appears three times, which is more than any other number, so the mode is 5.\n"
      ],
      "metadata": {
        "id": "I-yPhg6qeE7f"
      }
    },
    {
      "cell_type": "markdown",
      "source": [
        "2.Write a Python program to compute the variance and standard deviation of a dataset?\n"
      ],
      "metadata": {
        "id": "ZAeiQ8J0ej5L"
      }
    },
    {
      "cell_type": "code",
      "source": [
        "def calculate_mean(data):\n",
        "    return sum(data) / len(data)\n",
        "\n",
        "def calculate_variance(data):\n",
        "    mean = calculate_mean(data)\n",
        "    variance = sum((x - mean) ** 2 for x in data) / len(data)  # Population variance\n",
        "    return variance\n",
        "\n",
        "def calculate_std_deviation(data):\n",
        "    variance = calculate_variance(data)\n",
        "    std_dev = variance ** 0.5\n",
        "    return std_dev\n",
        "\n",
        "# Example dataset\n",
        "dataset = [10, 12, 23, 23, 16, 23, 21, 16]\n",
        "\n",
        "# Calculations\n",
        "variance = calculate_variance(dataset)\n",
        "std_dev = calculate_std_deviation(dataset)\n",
        "\n",
        "# Output\n",
        "print(\"Dataset:\", dataset)\n",
        "print(\"Variance:\", variance)\n",
        "print(\"Standard Deviation:\", std_dev)\n",
        "\n"
      ],
      "metadata": {
        "colab": {
          "base_uri": "https://localhost:8080/"
        },
        "id": "TrlJ2Px7fW2W",
        "outputId": "00726650-695e-4a9c-be64-f034246eb132"
      },
      "execution_count": 4,
      "outputs": [
        {
          "output_type": "stream",
          "name": "stdout",
          "text": [
            "Dataset: [10, 12, 23, 23, 16, 23, 21, 16]\n",
            "Variance: 24.0\n",
            "Standard Deviation: 4.898979485566356\n"
          ]
        }
      ]
    },
    {
      "cell_type": "markdown",
      "source": [
        "3.Create a dataset and classify it into nominal, ordinal, interval, and ratio types?\n"
      ],
      "metadata": {
        "id": "jLk-4I44fb_6"
      }
    },
    {
      "cell_type": "code",
      "source": [
        "import pandas as pd\n",
        "import numpy as np\n"
      ],
      "metadata": {
        "id": "rGhn0f9Wjy7c"
      },
      "execution_count": 7,
      "outputs": []
    },
    {
      "cell_type": "code",
      "source": [
        "# Define data\n",
        "data = {\n",
        "    'ID': range(1, 6),  # Nominal\n",
        "    'Name': ['Alice', 'Bob', 'Charlie', 'Diana', 'Edward'],  # Nominal\n",
        "    'Gender': ['Female', 'Male', 'Male', 'Female', 'Male'],  # Nominal\n",
        "    'Education Level': pd.Categorical(\n",
        "        ['Bachelor', 'Master', 'High School', 'PhD', 'Bachelor'],\n",
        "        categories=['High School', 'Bachelor', 'Master', 'PhD'],\n",
        "        ordered=True\n",
        "    ),  # Ordinal\n",
        "    'Satisfaction Level': [4, 5, 3, 2, 1],  # Ordinal\n",
        "    'Temperature (°C)': [36.5, 37.0, 36.0, 38.2, 36.3],  # Interval\n",
        "    'Age': [28, 34, 22, 45, 31],  # Ratio\n",
        "    'Income': [55000, 72000, 42000, 98000, 65000]  # Ratio\n",
        "}\n",
        "\n",
        "# Create DataFrame\n",
        "df = pd.DataFrame(data)\n",
        "\n",
        "print(\"Sample Dataset:\")\n",
        "print(df)\n"
      ],
      "metadata": {
        "colab": {
          "base_uri": "https://localhost:8080/"
        },
        "id": "sXyhcfl9j3V3",
        "outputId": "709da1ed-a1f7-427e-cec0-8772cddae794"
      },
      "execution_count": 8,
      "outputs": [
        {
          "output_type": "stream",
          "name": "stdout",
          "text": [
            "Sample Dataset:\n",
            "   ID     Name  Gender Education Level  Satisfaction Level  Temperature (°C)  \\\n",
            "0   1    Alice  Female        Bachelor                   4              36.5   \n",
            "1   2      Bob    Male          Master                   5              37.0   \n",
            "2   3  Charlie    Male     High School                   3              36.0   \n",
            "3   4    Diana  Female             PhD                   2              38.2   \n",
            "4   5   Edward    Male        Bachelor                   1              36.3   \n",
            "\n",
            "   Age  Income  \n",
            "0   28   55000  \n",
            "1   34   72000  \n",
            "2   22   42000  \n",
            "3   45   98000  \n",
            "4   31   65000  \n"
          ]
        }
      ]
    },
    {
      "cell_type": "code",
      "source": [
        "# Classification of data types\n",
        "data_types = {\n",
        "    'ID': 'Nominal',\n",
        "    'Name': 'Nominal',\n",
        "    'Gender': 'Nominal',\n",
        "    'Education Level': 'Ordinal',\n",
        "    'Satisfaction Level': 'Ordinal',\n",
        "    'Temperature (°C)': 'Interval',\n",
        "    'Age': 'Ratio',\n",
        "    'Income': 'Ratio'\n",
        "}\n",
        "\n",
        "# Display classifications\n",
        "print(\"\\nColumn Classification:\")\n",
        "for column, dtype in data_types.items():\n",
        "    print(f\"{column}: {dtype}\")\n"
      ],
      "metadata": {
        "colab": {
          "base_uri": "https://localhost:8080/"
        },
        "id": "pvvMMAN-j-uz",
        "outputId": "37e718de-1fe0-41df-9db8-4534ec9e4665"
      },
      "execution_count": 9,
      "outputs": [
        {
          "output_type": "stream",
          "name": "stdout",
          "text": [
            "\n",
            "Column Classification:\n",
            "ID: Nominal\n",
            "Name: Nominal\n",
            "Gender: Nominal\n",
            "Education Level: Ordinal\n",
            "Satisfaction Level: Ordinal\n",
            "Temperature (°C): Interval\n",
            "Age: Ratio\n",
            "Income: Ratio\n"
          ]
        }
      ]
    },
    {
      "cell_type": "markdown",
      "source": [
        "4.Implement sampling techniques like random sampling and stratified sampling.\n"
      ],
      "metadata": {
        "id": "8JE750nDi-Er"
      }
    },
    {
      "cell_type": "code",
      "source": [
        "import pandas as pd\n",
        "import numpy as np\n",
        "from sklearn.model_selection import train_test_split\n",
        "\n",
        "# Create sample dataset\n",
        "data = {\n",
        "    'ID': range(1, 21),\n",
        "    'Name': [f'Person_{i}' for i in range(1, 21)],\n",
        "    'Gender': np.random.choice(['Male', 'Female'], 20),\n",
        "    'Education Level': np.random.choice(['High School', 'Bachelor', 'Master', 'PhD'], 20)\n",
        "}\n",
        "\n",
        "df = pd.DataFrame(data)\n",
        "print(\"Original Dataset:\\n\", df)\n"
      ],
      "metadata": {
        "colab": {
          "base_uri": "https://localhost:8080/"
        },
        "id": "x-fkjmykfZdq",
        "outputId": "480966e6-0732-450b-ad5d-f45612f337b3"
      },
      "execution_count": 5,
      "outputs": [
        {
          "output_type": "stream",
          "name": "stdout",
          "text": [
            "Original Dataset:\n",
            "     ID       Name  Gender Education Level\n",
            "0    1   Person_1  Female        Bachelor\n",
            "1    2   Person_2  Female        Bachelor\n",
            "2    3   Person_3  Female          Master\n",
            "3    4   Person_4  Female          Master\n",
            "4    5   Person_5    Male        Bachelor\n",
            "5    6   Person_6    Male        Bachelor\n",
            "6    7   Person_7  Female        Bachelor\n",
            "7    8   Person_8  Female        Bachelor\n",
            "8    9   Person_9  Female     High School\n",
            "9   10  Person_10    Male        Bachelor\n",
            "10  11  Person_11  Female             PhD\n",
            "11  12  Person_12  Female     High School\n",
            "12  13  Person_13    Male             PhD\n",
            "13  14  Person_14  Female        Bachelor\n",
            "14  15  Person_15  Female        Bachelor\n",
            "15  16  Person_16  Female     High School\n",
            "16  17  Person_17    Male     High School\n",
            "17  18  Person_18    Male        Bachelor\n",
            "18  19  Person_19  Female             PhD\n",
            "19  20  Person_20    Male             PhD\n"
          ]
        }
      ]
    },
    {
      "cell_type": "code",
      "source": [
        "# Simple random sampling: sample 5 rows\n",
        "random_sample = df.sample(n=5, random_state=1)\n",
        "\n",
        "print(\"\\nRandom Sample:\\n\", random_sample)\n"
      ],
      "metadata": {
        "colab": {
          "base_uri": "https://localhost:8080/"
        },
        "id": "bX2UMR03jNz7",
        "outputId": "1d2687b9-3dda-484f-8d98-c916f67a7a61"
      },
      "execution_count": 6,
      "outputs": [
        {
          "output_type": "stream",
          "name": "stdout",
          "text": [
            "\n",
            "Random Sample:\n",
            "     ID       Name  Gender Education Level\n",
            "3    4   Person_4  Female          Master\n",
            "16  17  Person_17    Male     High School\n",
            "6    7   Person_7  Female        Bachelor\n",
            "10  11  Person_11  Female             PhD\n",
            "2    3   Person_3  Female          Master\n"
          ]
        }
      ]
    },
    {
      "cell_type": "markdown",
      "source": [
        "5. Write a Python function to calculate the range of a dataset?\n"
      ],
      "metadata": {
        "id": "cigFFjqikBd5"
      }
    },
    {
      "cell_type": "code",
      "source": [
        "def calculate_range(data):\n",
        "    if not data:\n",
        "        return None  # handle empty list\n",
        "    return max(data) - min(data)\n",
        "\n",
        "# Example usage\n",
        "dataset = [10, 22, 34, 45, 18, 27, 39]\n",
        "data_range = calculate_range(dataset)\n",
        "\n",
        "print(\"Dataset:\", dataset)\n",
        "print(\"Range:\", data_range)\n"
      ],
      "metadata": {
        "colab": {
          "base_uri": "https://localhost:8080/"
        },
        "id": "PLfegbWWjSwk",
        "outputId": "3f747e75-9dc8-4555-bb15-4828a93a1791"
      },
      "execution_count": 10,
      "outputs": [
        {
          "output_type": "stream",
          "name": "stdout",
          "text": [
            "Dataset: [10, 22, 34, 45, 18, 27, 39]\n",
            "Range: 35\n"
          ]
        }
      ]
    },
    {
      "cell_type": "markdown",
      "source": [
        "6.Create a dataset and plot its histogram to visualize skewness?\n"
      ],
      "metadata": {
        "id": "ujHYnrGhkSNo"
      }
    },
    {
      "cell_type": "code",
      "source": [
        "import numpy as np\n",
        "import pandas as pd\n",
        "import matplotlib.pyplot as plt\n",
        "import seaborn as sns\n",
        "from scipy.stats import skew\n",
        "\n",
        "# 1. Create a skewed dataset (e.g., right-skewed income distribution)\n",
        "np.random.seed(0)\n",
        "data = np.random.exponential(scale=50000, size=1000)  # Right-skewed\n",
        "\n",
        "# 2. Convert to DataFrame\n",
        "df = pd.DataFrame({'Income': data})\n",
        "\n",
        "# 3. Calculate skewness\n",
        "skewness_value = skew(df['Income'])\n",
        "\n",
        "# 4. Plot histogram\n",
        "plt.figure(figsize=(10, 6))\n",
        "sns.histplot(df['Income'], bins=30, kde=True, color='skyblue')\n",
        "plt.title(f\"Histogram of Income (Skewness = {skewness_value:.2f})\")\n",
        "plt.xlabel('Income')\n",
        "plt.ylabel('Frequency')\n",
        "plt.grid(True)\n",
        "plt.show()\n"
      ],
      "metadata": {
        "colab": {
          "base_uri": "https://localhost:8080/",
          "height": 564
        },
        "id": "63jBx4aGkQZT",
        "outputId": "49e93b5f-97c8-4a95-ab2c-c3c65f833c1c"
      },
      "execution_count": 11,
      "outputs": [
        {
          "output_type": "display_data",
          "data": {
            "text/plain": [
              "<Figure size 1000x600 with 1 Axes>"
            ],
            "image/png": "[encoded data removed]"
          },
          "metadata": {}
        }
      ]
    },
    {
      "cell_type": "markdown",
      "source": [
        "7. Calculate skewness and kurtosis of a dataset using Python libraries?\n"
      ],
      "metadata": {
        "id": "PmA_xxtGkewY"
      }
    },
    {
      "cell_type": "code",
      "source": [
        "import numpy as np\n",
        "from scipy.stats import skew, kurtosis\n",
        "\n",
        "# Sample dataset (right-skewed)\n",
        "data = np.random.exponential(scale=2.0, size=1000)\n",
        "\n",
        "# Calculate skewness and kurtosis\n",
        "data_skewness = skew(data)\n",
        "data_kurtosis = kurtosis(data)  # By default, Fisher’s definition: 0 for normal distribution\n",
        "\n",
        "print(f\"Skewness: {data_skewness:.2f}\")\n",
        "print(f\"Kurtosis: {data_kurtosis:.2f}\")\n"
      ],
      "metadata": {
        "colab": {
          "base_uri": "https://localhost:8080/"
        },
        "id": "AOvSgfF_kcgZ",
        "outputId": "7c2223d5-d02c-4715-a96c-13207a3c6def"
      },
      "execution_count": 12,
      "outputs": [
        {
          "output_type": "stream",
          "name": "stdout",
          "text": [
            "Skewness: 1.75\n",
            "Kurtosis: 3.80\n"
          ]
        }
      ]
    },
    {
      "cell_type": "markdown",
      "source": [
        "8.Generate a dataset and demonstrate positive and negative skewness?\n"
      ],
      "metadata": {
        "id": "LLW12t1Ekq11"
      }
    },
    {
      "cell_type": "code",
      "source": [
        "import numpy as np\n",
        "import pandas as pd\n",
        "import matplotlib.pyplot as plt\n",
        "import seaborn as sns\n",
        "from scipy.stats import skew\n",
        "\n",
        "# Set seed for reproducibility\n",
        "np.random.seed(42)\n",
        "\n",
        "# 1. Generate Positively Skewed Data (e.g., exponential)\n",
        "positive_skew_data = np.random.exponential(scale=2.0, size=1000)\n",
        "\n",
        "# 2. Generate Negatively Skewed Data (by transforming exponential)\n",
        "negative_skew_data = -np.random.exponential(scale=2.0, size=1000) + 10\n",
        "\n",
        "# 3. Create DataFrames\n",
        "df = pd.DataFrame({\n",
        "    'Positive Skew': positive_skew_data,\n",
        "    'Negative Skew': negative_skew_data\n",
        "})\n",
        "\n",
        "# 4. Calculate Skewness\n",
        "pos_skewness = skew(positive_skew_data)\n",
        "neg_skewness = skew(negative_skew_data)\n",
        "\n",
        "print(f\"Skewness (Positive): {pos_skewness:.2f}\")\n",
        "print(f\"Skewness (Negative): {neg_skewness:.2f}\")\n",
        "\n",
        "# 5. Plot histograms\n",
        "plt.figure(figsize=(14, 6))\n",
        "\n",
        "# Positive skew\n",
        "plt.subplot(1, 2, 1)\n",
        "sns.histplot(positive_skew_data, bins=30, kde=True, color='skyblue')\n",
        "plt.title(f'Positive Skew (Skewness = {pos_skewness:.2f})')\n",
        "plt.xlabel('Value')\n",
        "plt.ylabel('Frequency')\n",
        "\n",
        "# Negative skew\n",
        "plt.subplot(1, 2, 2)\n",
        "sns.histplot(negative_skew_data, bins=30, kde=True, color='salmon')\n",
        "plt.title(f'Negative Skew (Skewness = {neg_skewness:.2f})')\n",
        "plt.xlabel('Value')\n",
        "plt.ylabel('Frequency')\n",
        "\n",
        "plt.tight_layout()\n",
        "plt.show()\n"
      ],
      "metadata": {
        "colab": {
          "base_uri": "https://localhost:8080/",
          "height": 642
        },
        "id": "BdmAD_9ykoqW",
        "outputId": "b8f64d6b-8c0d-417d-9ea0-405f1013b8c7"
      },
      "execution_count": 13,
      "outputs": [
        {
          "output_type": "stream",
          "name": "stdout",
          "text": [
            "Skewness (Positive): 1.87\n",
            "Skewness (Negative): -1.99\n"
          ]
        },
        {
          "output_type": "display_data",
          "data": {
            "text/plain": [
              "<Figure size 1400x600 with 2 Axes>"
            ],
            "image/png": "[encoded data removed]"
          },
          "metadata": {}
        }
      ]
    },
    {
      "cell_type": "markdown",
      "source": [
        "9.Write a Python script to calculate covariance between two datasets?\n"
      ],
      "metadata": {
        "id": "WBuM6sdOk67X"
      }
    },
    {
      "cell_type": "code",
      "source": [
        "def calculate_covariance(x, y):\n",
        "    if len(x) != len(y):\n",
        "        raise ValueError(\"Datasets must be of equal length\")\n",
        "\n",
        "    n = len(x)\n",
        "    mean_x = sum(x) / n\n",
        "    mean_y = sum(y) / n\n",
        "\n",
        "    covariance = sum((x[i] - mean_x) * (y[i] - mean_y) for i in range(n)) / n\n",
        "    return covariance\n",
        "\n",
        "# Example datasets\n",
        "x = [2, 4, 6, 8, 10]\n",
        "y = [1, 3, 5, 7, 9]\n",
        "\n",
        "cov = calculate_covariance(x, y)\n",
        "print(\"Covariance (manual):\", cov)\n"
      ],
      "metadata": {
        "colab": {
          "base_uri": "https://localhost:8080/"
        },
        "id": "zfuXQd1Ck4fU",
        "outputId": "8e687bd6-054c-425f-9ead-0212b835249b"
      },
      "execution_count": 14,
      "outputs": [
        {
          "output_type": "stream",
          "name": "stdout",
          "text": [
            "Covariance (manual): 8.0\n"
          ]
        }
      ]
    },
    {
      "cell_type": "markdown",
      "source": [
        "10.Write a Python script to calculate the correlation coefficient between two datasets?\n"
      ],
      "metadata": {
        "id": "7hR0qOBwlQbx"
      }
    },
    {
      "cell_type": "code",
      "source": [
        "import numpy as np\n",
        "\n",
        "# Example datasets\n",
        "x = np.array([2, 4, 6, 8, 10])\n",
        "y = np.array([1, 3, 5, 7, 9])\n",
        "\n",
        "# Calculate Pearson correlation coefficient matrix\n",
        "corr_matrix = np.corrcoef(x, y)\n",
        "\n",
        "print(\"Correlation coefficient matrix:\\n\", corr_matrix)\n",
        "print(\"Correlation coefficient:\", corr_matrix[0, 1])\n"
      ],
      "metadata": {
        "colab": {
          "base_uri": "https://localhost:8080/"
        },
        "id": "ekzPPIqGlIKj",
        "outputId": "54cf1fe5-349e-4153-d74d-40b93a8e54d3"
      },
      "execution_count": 15,
      "outputs": [
        {
          "output_type": "stream",
          "name": "stdout",
          "text": [
            "Correlation coefficient matrix:\n",
            " [[1. 1.]\n",
            " [1. 1.]]\n",
            "Correlation coefficient: 0.9999999999999999\n"
          ]
        }
      ]
    },
    {
      "cell_type": "markdown",
      "source": [
        "11.Create a scatter plot to visualize the relationship between two variables?\n"
      ],
      "metadata": {
        "id": "Ef5qXvy_lehG"
      }
    },
    {
      "cell_type": "code",
      "source": [
        "import matplotlib.pyplot as plt\n",
        "\n",
        "# Sample data\n",
        "x = [1, 2, 3, 4, 5, 6, 7, 8, 9, 10]\n",
        "y = [2, 3, 5, 7, 11, 13, 17, 19, 23, 29]\n",
        "\n",
        "# Create scatter plot\n",
        "plt.scatter(x, y)\n",
        "\n",
        "# Add title and labels\n",
        "plt.title(\"Scatter Plot of x vs y\")\n",
        "plt.xlabel(\"x\")\n",
        "plt.ylabel(\"y\")\n",
        "\n",
        "# Show the plot\n",
        "plt.show()\n"
      ],
      "metadata": {
        "colab": {
          "base_uri": "https://localhost:8080/",
          "height": 472
        },
        "id": "1TE-F1Tglczn",
        "outputId": "8192ed21-4428-4ec0-b010-e51c8bfdeab3"
      },
      "execution_count": 16,
      "outputs": [
        {
          "output_type": "display_data",
          "data": {
            "text/plain": [
              "<Figure size 640x480 with 1 Axes>"
            ],
            "image/png": "[encoded data removed]"
          },
          "metadata": {}
        }
      ]
    },
    {
      "cell_type": "markdown",
      "source": [
        "12.Implement and compare simple random sampling and systematic sampling.\n"
      ],
      "metadata": {
        "id": "nc39ikyjmH7G"
      }
    },
    {
      "cell_type": "code",
      "source": [
        "import numpy as np\n",
        "\n",
        "# Create a sample population dataset\n",
        "population = np.arange(1, 101)  # Population from 1 to 100\n",
        "\n",
        "# Sample size\n",
        "sample_size = 10\n",
        "\n",
        "# 1. Simple Random Sampling\n",
        "def simple_random_sampling(population, sample_size):\n",
        "    return np.random.choice(population, size=sample_size, replace=False)\n",
        "\n",
        "# 2. Systematic Sampling\n",
        "def systematic_sampling(population, sample_size):\n",
        "    N = len(population)\n",
        "    k = N // sample_size  # step size\n",
        "    start = np.random.randint(0, k)\n",
        "    indices = np.arange(start, start + k * sample_size, k) % N\n",
        "    return population[indices]\n",
        "\n",
        "# Generate samples\n",
        "simple_sample = simple_random_sampling(population, sample_size)\n",
        "systematic_sample = systematic_sampling(population, sample_size)\n",
        "\n",
        "print(\"Population:\", population)\n",
        "print(\"\\nSimple Random Sample:\", simple_sample)\n",
        "print(\"Systematic Sample:\", systematic_sample)\n"
      ],
      "metadata": {
        "colab": {
          "base_uri": "https://localhost:8080/"
        },
        "id": "r1UHkwI-mGGL",
        "outputId": "98574af8-6052-45b0-e354-d71e88ed18d3"
      },
      "execution_count": 17,
      "outputs": [
        {
          "output_type": "stream",
          "name": "stdout",
          "text": [
            "Population: [  1   2   3   4   5   6   7   8   9  10  11  12  13  14  15  16  17  18\n",
            "  19  20  21  22  23  24  25  26  27  28  29  30  31  32  33  34  35  36\n",
            "  37  38  39  40  41  42  43  44  45  46  47  48  49  50  51  52  53  54\n",
            "  55  56  57  58  59  60  61  62  63  64  65  66  67  68  69  70  71  72\n",
            "  73  74  75  76  77  78  79  80  81  82  83  84  85  86  87  88  89  90\n",
            "  91  92  93  94  95  96  97  98  99 100]\n",
            "\n",
            "Simple Random Sample: [ 9 66 67 59 47 30 86 31 43 13]\n",
            "Systematic Sample: [ 4 14 24 34 44 54 64 74 84 94]\n"
          ]
        }
      ]
    },
    {
      "cell_type": "markdown",
      "source": [
        "13.Calculate the mean, median, and mode of grouped data?\n"
      ],
      "metadata": {
        "id": "H9me4vMrnL_n"
      }
    },
    {
      "cell_type": "code",
      "source": [
        "# Grouped data example\n",
        "class_intervals = [(10, 20), (20, 30), (30, 40), (40, 50), (50, 60)]\n",
        "frequencies = [5, 8, 15, 10, 7]\n",
        "\n",
        "def midpoint(interval):\n",
        "    return (interval[0] + interval[1]) / 2\n",
        "\n",
        "def mean_grouped(class_intervals, frequencies):\n",
        "    midpoints = [midpoint(ci) for ci in class_intervals]\n",
        "    total_freq = sum(frequencies)\n",
        "    mean = sum(f * x for f, x in zip(frequencies, midpoints)) / total_freq\n",
        "    return mean\n",
        "\n",
        "def median_grouped(class_intervals, frequencies):\n",
        "    total_freq = sum(frequencies)\n",
        "    cumulative_freq = []\n",
        "    cum_sum = 0\n",
        "    for f in frequencies:\n",
        "        cum_sum += f\n",
        "        cumulative_freq.append(cum_sum)\n",
        "\n",
        "    median_class_index = 0\n",
        "    for i, cf in enumerate(cumulative_freq):\n",
        "        if cf >= total_freq / 2:\n",
        "            median_class_index = i\n",
        "            break\n",
        "\n",
        "    L = class_intervals[median_class_index][0]   # lower boundary of median class\n",
        "    F = cumulative_freq[median_class_index - 1] if median_class_index != 0 else 0  # cumulative freq before median class\n",
        "    f = frequencies[median_class_index]          # frequency of median class\n",
        "    h = class_intervals[0][1] - class_intervals[0][0]  # class width (assumed equal)\n",
        "\n",
        "    median = L + ((total_freq / 2 - F) / f) * h\n",
        "    return median\n",
        "\n",
        "def mode_grouped(class_intervals, frequencies):\n",
        "    modal_class_index = frequencies.index(max(frequencies))\n",
        "\n",
        "    L = class_intervals[modal_class_index][0]\n",
        "    f1 = frequencies[modal_class_index]\n",
        "    f0 = frequencies[modal_class_index - 1] if modal_class_index != 0 else 0\n",
        "    f2 = frequencies[modal_class_index + 1] if modal_class_index != len(frequencies) - 1 else 0\n",
        "    h = class_intervals[0][1] - class_intervals[0][0]  # class width (assumed equal)\n",
        "\n",
        "    mode = L + ((f1 - f0) / (2 * f1 - f0 - f2)) * h\n",
        "    return mode\n",
        "\n",
        "mean_val = mean_grouped(class_intervals, frequencies)\n",
        "median_val = median_grouped(class_intervals, frequencies)\n",
        "mode_val = mode_grouped(class_intervals, frequencies)\n",
        "\n",
        "print(f\"Mean: {mean_val:.2f}\")\n",
        "print(f\"Median: {median_val:.2f}\")\n",
        "print(f\"Mode: {mode_val:.2f}\")\n"
      ],
      "metadata": {
        "colab": {
          "base_uri": "https://localhost:8080/"
        },
        "id": "v23jLKwFm76c",
        "outputId": "5131b56d-9af1-436b-b04d-8e757acecd7e"
      },
      "execution_count": 19,
      "outputs": [
        {
          "output_type": "stream",
          "name": "stdout",
          "text": [
            "Mean: 36.33\n",
            "Median: 36.33\n",
            "Mode: 35.83\n"
          ]
        }
      ]
    },
    {
      "cell_type": "markdown",
      "source": [
        "14.Simulate data using Python and calculate its central tendency and dispersion.\n"
      ],
      "metadata": {
        "id": "C_fvNMTznWgM"
      }
    },
    {
      "cell_type": "code",
      "source": [
        "import numpy as np\n",
        "import scipy.stats as stats\n",
        "\n",
        "# Simulate data: generate 100 random numbers from a normal distribution\n",
        "data = np.random.normal(loc=50, scale=10, size=100)\n",
        "\n",
        "# Central tendency\n",
        "mean = np.mean(data)\n",
        "median = np.median(data)\n",
        "mode = stats.mode(data)[0][0]\n",
        "\n",
        "# Dispersion\n",
        "variance = np.var(data, ddof=1)  # Sample variance\n",
        "std_dev = np.std(data, ddof=1)   # Sample standard deviation\n",
        "data_range = np.ptp(data)         # Range (max-min)\n",
        "\n",
        "print(f\"Mean: {mean:.2f}\")\n",
        "print(f\"Median: {median:.2f}\")\n",
        "print(f\"Mode: {mode:.2f}\")\n",
        "print(f\"Variance: {variance:.2f}\")\n",
        "print(f\"Standard Deviation: {std_dev:.2f}\")\n",
        "print(f\"Range: {data_range:.2f}\")\n"
      ],
      "metadata": {
        "colab": {
          "base_uri": "https://localhost:8080/",
          "height": 211
        },
        "id": "5H_iyuKlnkYv",
        "outputId": "d7e97d5a-b892-4cc6-9b71-8ea7e83bed74"
      },
      "execution_count": 21,
      "outputs": [
        {
          "output_type": "error",
          "ename": "IndexError",
          "evalue": "invalid index to scalar variable.",
          "traceback": [
            "\u001b[0;31m---------------------------------------------------------------------------\u001b[0m",
            "\u001b[0;31mIndexError\u001b[0m                                Traceback (most recent call last)",
            "\u001b[0;32m/tmp/ipython-input-21-351138189.py\u001b[0m in \u001b[0;36m<cell line: 0>\u001b[0;34m()\u001b[0m\n\u001b[1;32m      8\u001b[0m \u001b[0mmean\u001b[0m \u001b[0;34m=\u001b[0m \u001b[0mnp\u001b[0m\u001b[0;34m.\u001b[0m\u001b[0mmean\u001b[0m\u001b[0;34m(\u001b[0m\u001b[0mdata\u001b[0m\u001b[0;34m)\u001b[0m\u001b[0;34m\u001b[0m\u001b[0;34m\u001b[0m\u001b[0m\n\u001b[1;32m      9\u001b[0m \u001b[0mmedian\u001b[0m \u001b[0;34m=\u001b[0m \u001b[0mnp\u001b[0m\u001b[0;34m.\u001b[0m\u001b[0mmedian\u001b[0m\u001b[0;34m(\u001b[0m\u001b[0mdata\u001b[0m\u001b[0;34m)\u001b[0m\u001b[0;34m\u001b[0m\u001b[0;34m\u001b[0m\u001b[0m\n\u001b[0;32m---> 10\u001b[0;31m \u001b[0mmode\u001b[0m \u001b[0;34m=\u001b[0m \u001b[0mstats\u001b[0m\u001b[0;34m.\u001b[0m\u001b[0mmode\u001b[0m\u001b[0;34m(\u001b[0m\u001b[0mdata\u001b[0m\u001b[0;34m)\u001b[0m\u001b[0;34m[\u001b[0m\u001b[0;36m0\u001b[0m\u001b[0;34m]\u001b[0m\u001b[0;34m[\u001b[0m\u001b[0;36m0\u001b[0m\u001b[0;34m]\u001b[0m\u001b[0;34m\u001b[0m\u001b[0;34m\u001b[0m\u001b[0m\n\u001b[0m\u001b[1;32m     11\u001b[0m \u001b[0;34m\u001b[0m\u001b[0m\n\u001b[1;32m     12\u001b[0m \u001b[0;31m# Dispersion\u001b[0m\u001b[0;34m\u001b[0m\u001b[0;34m\u001b[0m\u001b[0m\n",
            "\u001b[0;31mIndexError\u001b[0m: invalid index to scalar variable."
          ]
        }
      ]
    },
    {
      "cell_type": "markdown",
      "source": [
        "15.Use NumPy or pandas to summarize a dataset’s descriptive statistics.\n"
      ],
      "metadata": {
        "id": "b5s_ecHFnrL9"
      }
    },
    {
      "cell_type": "code",
      "source": [
        "import pandas as pd\n",
        "\n",
        "# Example dataset\n",
        "data = {\n",
        "    'Age': [25, 30, 45, 22, 35, 28],\n",
        "    'Salary': [50000, 60000, 80000, 45000, 70000, 62000]\n",
        "}\n",
        "\n",
        "df = pd.DataFrame(data)\n",
        "\n",
        "# Get descriptive statistics\n",
        "summary = df.describe()\n",
        "print(summary)\n"
      ],
      "metadata": {
        "colab": {
          "base_uri": "https://localhost:8080/"
        },
        "id": "zIBaSUbDnp2t",
        "outputId": "31947536-f0cd-4f2c-f3bb-c48c38e560b5"
      },
      "execution_count": 22,
      "outputs": [
        {
          "output_type": "stream",
          "name": "stdout",
          "text": [
            "             Age        Salary\n",
            "count   6.000000      6.000000\n",
            "mean   30.833333  61166.666667\n",
            "std     8.232051  12812.754063\n",
            "min    22.000000  45000.000000\n",
            "25%    25.750000  52500.000000\n",
            "50%    29.000000  61000.000000\n",
            "75%    33.750000  68000.000000\n",
            "max    45.000000  80000.000000\n"
          ]
        }
      ]
    },
    {
      "cell_type": "markdown",
      "source": [
        "16.Plot a boxplot to understand the spread and identify outliers?\n"
      ],
      "metadata": {
        "id": "aT-o07f8oAI5"
      }
    },
    {
      "cell_type": "code",
      "source": [
        "import matplotlib.pyplot as plt\n",
        "import seaborn as sns\n",
        "import numpy as np\n",
        "\n",
        "# Example data: Normally distributed with some outliers\n",
        "data = np.random.normal(loc=50, scale=10, size=100)\n",
        "outliers = [100, 110, 120]\n",
        "data_with_outliers = np.concatenate((data, outliers))\n",
        "\n",
        "# Create a boxplot\n",
        "plt.figure(figsize=(8, 6))\n",
        "sns.boxplot(data=data_with_outliers)\n",
        "plt.title('Boxplot to Understand Spread and Identify Outliers')\n",
        "plt.xlabel('Data')\n",
        "plt.show()\n"
      ],
      "metadata": {
        "colab": {
          "base_uri": "https://localhost:8080/",
          "height": 550
        },
        "id": "znh5iPPwn-Qs",
        "outputId": "09efb4e5-d530-49b6-8be1-192c8b5055ea"
      },
      "execution_count": 23,
      "outputs": [
        {
          "output_type": "display_data",
          "data": {
            "text/plain": [
              "<Figure size 800x600 with 1 Axes>"
            ],
            "image/png": "[encoded data removed]"
          },
          "metadata": {}
        }
      ]
    },
    {
      "cell_type": "markdown",
      "source": [
        "17.Calculate the interquartile range (IQR) of a dataset?\n"
      ],
      "metadata": {
        "id": "kVQQOs7loVIH"
      }
    },
    {
      "cell_type": "code",
      "source": [
        "import numpy as np\n",
        "\n",
        "# Example dataset\n",
        "data = [10, 15, 14, 18, 22, 13, 17, 16, 20, 19]\n",
        "\n",
        "# Calculate the first quartile (Q1, 25th percentile)\n",
        "Q1 = np.percentile(data, 25)\n",
        "\n",
        "# Calculate the third quartile (Q3, 75th percentile)\n",
        "Q3 = np.percentile(data, 75)\n",
        "\n",
        "# Calculate the interquartile range (IQR)\n",
        "IQR = Q3 - Q1\n",
        "\n",
        "print(f\"Q1: {Q1}\")\n",
        "print(f\"Q3: {Q3}\")\n",
        "print(f\"IQR: {IQR}\")\n"
      ],
      "metadata": {
        "colab": {
          "base_uri": "https://localhost:8080/"
        },
        "id": "GmkJBbCtoS1g",
        "outputId": "092ef1f5-4b4f-4d2b-ff6a-109c4646be57"
      },
      "execution_count": 24,
      "outputs": [
        {
          "output_type": "stream",
          "name": "stdout",
          "text": [
            "Q1: 14.25\n",
            "Q3: 18.75\n",
            "IQR: 4.5\n"
          ]
        }
      ]
    },
    {
      "cell_type": "markdown",
      "source": [
        "18.Implement Z-score normalization and explain its significance.\n",
        "->Z-score normalization (also called standardization) transforms data to have a mean of 0 and a standard deviation of 1. This is done by subtracting the mean of the data and then dividing by the standard deviation.\n",
        "\n",
        "Formula:\n",
        "\n",
        "𝑧\n",
        "=\n",
        "𝑥\n",
        "−\n",
        "𝜇\n",
        "𝜎\n",
        "z=\n",
        "σ\n",
        "x−μ\n",
        "​\n",
        "\n",
        "𝑥\n",
        "x = original data point\n",
        "\n",
        "𝜇\n",
        "μ = mean of the dataset\n",
        "\n",
        "𝜎\n",
        "σ = standard deviation of the dataset\n",
        "\n",
        "𝑧\n",
        "z = normalized value (Z-score)\n",
        "\n",
        "Significance of Z-score Normalization\n",
        "Scale independence: It removes units and scales data to a standard scale. This helps when features have different units or ranges.\n",
        "\n",
        "Improves performance of ML models: Many algorithms (like SVM, KNN, PCA, and gradient descent-based models) perform better or converge faster when features are standardized.\n",
        "\n",
        "Outlier handling: Z-score shows how many standard deviations a data point is from the mean, which can help identify outliers.\n",
        "\n",
        "Comparability: Enables comparison across different features or datasets by putting them on the same scale.\n",
        "\n",
        "\n"
      ],
      "metadata": {
        "id": "HbO-cxf_okl0"
      }
    },
    {
      "cell_type": "code",
      "source": [
        "import numpy as np\n",
        "\n",
        "def z_score_normalize(data):\n",
        "    mean = np.mean(data)\n",
        "    std_dev = np.std(data)\n",
        "\n",
        "    if std_dev == 0:\n",
        "        # Avoid division by zero if all values are the same\n",
        "        return np.zeros_like(data)\n",
        "\n",
        "    normalized_data = (data - mean) / std_dev\n",
        "    return normalized_data\n",
        "\n",
        "# Example usage\n",
        "data = np.array([10, 20, 30, 40, 50])\n",
        "normalized = z_score_normalize(data)\n",
        "print(\"Original data:\", data)\n",
        "print(\"Z-score normalized data:\", normalized)\n"
      ],
      "metadata": {
        "colab": {
          "base_uri": "https://localhost:8080/"
        },
        "id": "DvFOlnhooi73",
        "outputId": "0cf51f09-704e-446f-b8e4-6a8fdc5da9bc"
      },
      "execution_count": 25,
      "outputs": [
        {
          "output_type": "stream",
          "name": "stdout",
          "text": [
            "Original data: [10 20 30 40 50]\n",
            "Z-score normalized data: [-1.41421356 -0.70710678  0.          0.70710678  1.41421356]\n"
          ]
        }
      ]
    },
    {
      "cell_type": "markdown",
      "source": [
        "19.Compare two datasets using their standard deviations.\n"
      ],
      "metadata": {
        "id": "T-k1m5Y0o_mb"
      }
    },
    {
      "cell_type": "code",
      "source": [
        "import numpy as np\n",
        "\n",
        "# Example datasets\n",
        "data1 = [10, 12, 23, 23, 16, 23, 21, 16]\n",
        "data2 = [14, 15, 15, 14, 15, 14, 14, 15]\n",
        "\n",
        "# Calculate standard deviations\n",
        "std1 = np.std(data1, ddof=1)  # sample standard deviation\n",
        "std2 = np.std(data2, ddof=1)\n",
        "\n",
        "print(f\"Standard Deviation of dataset 1: {std1}\")\n",
        "print(f\"Standard Deviation of dataset 2: {std2}\")\n",
        "\n",
        "# Comparing the datasets\n",
        "if std1 > std2:\n",
        "    print(\"Dataset 1 has higher variability.\")\n",
        "elif std1 < std2:\n",
        "    print(\"Dataset 2 has higher variability.\")\n",
        "else:\n",
        "    print(\"Both datasets have the same variability.\")\n"
      ],
      "metadata": {
        "colab": {
          "base_uri": "https://localhost:8080/"
        },
        "id": "UXM48VhLo8wC",
        "outputId": "c865d803-5252-4fe0-88a6-8e6d54ff3318"
      },
      "execution_count": 26,
      "outputs": [
        {
          "output_type": "stream",
          "name": "stdout",
          "text": [
            "Standard Deviation of dataset 1: 5.237229365663817\n",
            "Standard Deviation of dataset 2: 0.5345224838248488\n",
            "Dataset 1 has higher variability.\n"
          ]
        }
      ]
    },
    {
      "cell_type": "markdown",
      "source": [
        "20.Write a Python program to visualize covariance using a heatmap?\n"
      ],
      "metadata": {
        "id": "LgDkDy1ypoeq"
      }
    },
    {
      "cell_type": "code",
      "source": [
        "import numpy as np\n",
        "import pandas as pd\n",
        "import seaborn as sns\n",
        "import matplotlib.pyplot as plt\n",
        "\n",
        "# Generate some sample data\n",
        "np.random.seed(0)\n",
        "data = np.random.randn(100, 5)  # 100 samples, 5 variables\n",
        "\n",
        "# Create a DataFrame\n",
        "df = pd.DataFrame(data, columns=['A', 'B', 'C', 'D', 'E'])\n",
        "\n",
        "# Calculate the covariance matrix\n",
        "cov_matrix = df.cov()\n",
        "\n",
        "# Plot the heatmap\n",
        "plt.figure(figsize=(8, 6))\n",
        "sns.heatmap(cov_matrix, annot=True, cmap='coolwarm', center=0)\n",
        "plt.title('Covariance Matrix Heatmap')\n",
        "plt.show()\n"
      ],
      "metadata": {
        "colab": {
          "base_uri": "https://localhost:8080/",
          "height": 545
        },
        "id": "h05NOSvkpmWB",
        "outputId": "294841f6-8825-47e7-c5a8-ff08964271df"
      },
      "execution_count": 27,
      "outputs": [
        {
          "output_type": "display_data",
          "data": {
            "text/plain": [
              "<Figure size 800x600 with 2 Axes>"
            ],
            "image/png": "[encoded data removed]"
          },
          "metadata": {}
        }
      ]
    },
    {
      "cell_type": "markdown",
      "source": [
        "21.Use seaborn to create a correlation matrix for a dataset.\n"
      ],
      "metadata": {
        "id": "1As9tXX1p3Ja"
      }
    },
    {
      "cell_type": "code",
      "source": [
        "import pandas as pd\n",
        "import seaborn as sns\n",
        "import matplotlib.pyplot as plt\n",
        "\n",
        "# Example: Load sample data (you can replace this with your own DataFrame)\n",
        "df = sns.load_dataset('iris')  # just as an example dataset\n",
        "\n",
        "# Compute the correlation matrix\n",
        "corr = df.corr()\n",
        "\n",
        "# Plot the heatmap\n",
        "plt.figure(figsize=(8, 6))\n",
        "sns.heatmap(corr, annot=True, cmap='coolwarm', center=0)\n",
        "plt.title('Correlation Matrix Heatmap')\n",
        "plt.show()\n"
      ],
      "metadata": {
        "colab": {
          "base_uri": "https://localhost:8080/",
          "height": 356
        },
        "id": "F-cqruMZp2Iq",
        "outputId": "27a6f465-6f91-45a9-c259-b5e2a4c6eda0"
      },
      "execution_count": 28,
      "outputs": [
        {
          "output_type": "error",
          "ename": "ValueError",
          "evalue": "could not convert string to float: 'setosa'",
          "traceback": [
            "\u001b[0;31m---------------------------------------------------------------------------\u001b[0m",
            "\u001b[0;31mValueError\u001b[0m                                Traceback (most recent call last)",
            "\u001b[0;32m/tmp/ipython-input-28-4023198487.py\u001b[0m in \u001b[0;36m<cell line: 0>\u001b[0;34m()\u001b[0m\n\u001b[1;32m      7\u001b[0m \u001b[0;34m\u001b[0m\u001b[0m\n\u001b[1;32m      8\u001b[0m \u001b[0;31m# Compute the correlation matrix\u001b[0m\u001b[0;34m\u001b[0m\u001b[0;34m\u001b[0m\u001b[0m\n\u001b[0;32m----> 9\u001b[0;31m \u001b[0mcorr\u001b[0m \u001b[0;34m=\u001b[0m \u001b[0mdf\u001b[0m\u001b[0;34m.\u001b[0m\u001b[0mcorr\u001b[0m\u001b[0;34m(\u001b[0m\u001b[0;34m)\u001b[0m\u001b[0;34m\u001b[0m\u001b[0;34m\u001b[0m\u001b[0m\n\u001b[0m\u001b[1;32m     10\u001b[0m \u001b[0;34m\u001b[0m\u001b[0m\n\u001b[1;32m     11\u001b[0m \u001b[0;31m# Plot the heatmap\u001b[0m\u001b[0;34m\u001b[0m\u001b[0;34m\u001b[0m\u001b[0m\n",
            "\u001b[0;32m/usr/local/lib/python3.11/dist-packages/pandas/core/frame.py\u001b[0m in \u001b[0;36mcorr\u001b[0;34m(self, method, min_periods, numeric_only)\u001b[0m\n\u001b[1;32m  11047\u001b[0m         \u001b[0mcols\u001b[0m \u001b[0;34m=\u001b[0m \u001b[0mdata\u001b[0m\u001b[0;34m.\u001b[0m\u001b[0mcolumns\u001b[0m\u001b[0;34m\u001b[0m\u001b[0;34m\u001b[0m\u001b[0m\n\u001b[1;32m  11048\u001b[0m         \u001b[0midx\u001b[0m \u001b[0;34m=\u001b[0m \u001b[0mcols\u001b[0m\u001b[0;34m.\u001b[0m\u001b[0mcopy\u001b[0m\u001b[0;34m(\u001b[0m\u001b[0;34m)\u001b[0m\u001b[0;34m\u001b[0m\u001b[0;34m\u001b[0m\u001b[0m\n\u001b[0;32m> 11049\u001b[0;31m         \u001b[0mmat\u001b[0m \u001b[0;34m=\u001b[0m \u001b[0mdata\u001b[0m\u001b[0;34m.\u001b[0m\u001b[0mto_numpy\u001b[0m\u001b[0;34m(\u001b[0m\u001b[0mdtype\u001b[0m\u001b[0;34m=\u001b[0m\u001b[0mfloat\u001b[0m\u001b[0;34m,\u001b[0m \u001b[0mna_value\u001b[0m\u001b[0;34m=\u001b[0m\u001b[0mnp\u001b[0m\u001b[0;34m.\u001b[0m\u001b[0mnan\u001b[0m\u001b[0;34m,\u001b[0m \u001b[0mcopy\u001b[0m\u001b[0;34m=\u001b[0m\u001b[0;32mFalse\u001b[0m\u001b[0;34m)\u001b[0m\u001b[0;34m\u001b[0m\u001b[0;34m\u001b[0m\u001b[0m\n\u001b[0m\u001b[1;32m  11050\u001b[0m \u001b[0;34m\u001b[0m\u001b[0m\n\u001b[1;32m  11051\u001b[0m         \u001b[0;32mif\u001b[0m \u001b[0mmethod\u001b[0m \u001b[0;34m==\u001b[0m \u001b[0;34m\"pearson\"\u001b[0m\u001b[0;34m:\u001b[0m\u001b[0;34m\u001b[0m\u001b[0;34m\u001b[0m\u001b[0m\n",
            "\u001b[0;32m/usr/local/lib/python3.11/dist-packages/pandas/core/frame.py\u001b[0m in \u001b[0;36mto_numpy\u001b[0;34m(self, dtype, copy, na_value)\u001b[0m\n\u001b[1;32m   1991\u001b[0m         \u001b[0;32mif\u001b[0m \u001b[0mdtype\u001b[0m \u001b[0;32mis\u001b[0m \u001b[0;32mnot\u001b[0m \u001b[0;32mNone\u001b[0m\u001b[0;34m:\u001b[0m\u001b[0;34m\u001b[0m\u001b[0;34m\u001b[0m\u001b[0m\n\u001b[1;32m   1992\u001b[0m             \u001b[0mdtype\u001b[0m \u001b[0;34m=\u001b[0m \u001b[0mnp\u001b[0m\u001b[0;34m.\u001b[0m\u001b[0mdtype\u001b[0m\u001b[0;34m(\u001b[0m\u001b[0mdtype\u001b[0m\u001b[0;34m)\u001b[0m\u001b[0;34m\u001b[0m\u001b[0;34m\u001b[0m\u001b[0m\n\u001b[0;32m-> 1993\u001b[0;31m         \u001b[0mresult\u001b[0m \u001b[0;34m=\u001b[0m \u001b[0mself\u001b[0m\u001b[0;34m.\u001b[0m\u001b[0m_mgr\u001b[0m\u001b[0;34m.\u001b[0m\u001b[0mas_array\u001b[0m\u001b[0;34m(\u001b[0m\u001b[0mdtype\u001b[0m\u001b[0;34m=\u001b[0m\u001b[0mdtype\u001b[0m\u001b[0;34m,\u001b[0m \u001b[0mcopy\u001b[0m\u001b[0;34m=\u001b[0m\u001b[0mcopy\u001b[0m\u001b[0;34m,\u001b[0m \u001b[0mna_value\u001b[0m\u001b[0;34m=\u001b[0m\u001b[0mna_value\u001b[0m\u001b[0;34m)\u001b[0m\u001b[0;34m\u001b[0m\u001b[0;34m\u001b[0m\u001b[0m\n\u001b[0m\u001b[1;32m   1994\u001b[0m         \u001b[0;32mif\u001b[0m \u001b[0mresult\u001b[0m\u001b[0;34m.\u001b[0m\u001b[0mdtype\u001b[0m \u001b[0;32mis\u001b[0m \u001b[0;32mnot\u001b[0m \u001b[0mdtype\u001b[0m\u001b[0;34m:\u001b[0m\u001b[0;34m\u001b[0m\u001b[0;34m\u001b[0m\u001b[0m\n\u001b[1;32m   1995\u001b[0m             \u001b[0mresult\u001b[0m \u001b[0;34m=\u001b[0m \u001b[0mnp\u001b[0m\u001b[0;34m.\u001b[0m\u001b[0masarray\u001b[0m\u001b[0;34m(\u001b[0m\u001b[0mresult\u001b[0m\u001b[0;34m,\u001b[0m \u001b[0mdtype\u001b[0m\u001b[0;34m=\u001b[0m\u001b[0mdtype\u001b[0m\u001b[0;34m)\u001b[0m\u001b[0;34m\u001b[0m\u001b[0;34m\u001b[0m\u001b[0m\n",
            "\u001b[0;32m/usr/local/lib/python3.11/dist-packages/pandas/core/internals/managers.py\u001b[0m in \u001b[0;36mas_array\u001b[0;34m(self, dtype, copy, na_value)\u001b[0m\n\u001b[1;32m   1692\u001b[0m                 \u001b[0marr\u001b[0m\u001b[0;34m.\u001b[0m\u001b[0mflags\u001b[0m\u001b[0;34m.\u001b[0m\u001b[0mwriteable\u001b[0m \u001b[0;34m=\u001b[0m \u001b[0;32mFalse\u001b[0m\u001b[0;34m\u001b[0m\u001b[0;34m\u001b[0m\u001b[0m\n\u001b[1;32m   1693\u001b[0m         \u001b[0;32melse\u001b[0m\u001b[0;34m:\u001b[0m\u001b[0;34m\u001b[0m\u001b[0;34m\u001b[0m\u001b[0m\n\u001b[0;32m-> 1694\u001b[0;31m             \u001b[0marr\u001b[0m \u001b[0;34m=\u001b[0m \u001b[0mself\u001b[0m\u001b[0;34m.\u001b[0m\u001b[0m_interleave\u001b[0m\u001b[0;34m(\u001b[0m\u001b[0mdtype\u001b[0m\u001b[0;34m=\u001b[0m\u001b[0mdtype\u001b[0m\u001b[0;34m,\u001b[0m \u001b[0mna_value\u001b[0m\u001b[0;34m=\u001b[0m\u001b[0mna_value\u001b[0m\u001b[0;34m)\u001b[0m\u001b[0;34m\u001b[0m\u001b[0;34m\u001b[0m\u001b[0m\n\u001b[0m\u001b[1;32m   1695\u001b[0m             \u001b[0;31m# The underlying data was copied within _interleave, so no need\u001b[0m\u001b[0;34m\u001b[0m\u001b[0;34m\u001b[0m\u001b[0m\n\u001b[1;32m   1696\u001b[0m             \u001b[0;31m# to further copy if copy=True or setting na_value\u001b[0m\u001b[0;34m\u001b[0m\u001b[0;34m\u001b[0m\u001b[0m\n",
            "\u001b[0;32m/usr/local/lib/python3.11/dist-packages/pandas/core/internals/managers.py\u001b[0m in \u001b[0;36m_interleave\u001b[0;34m(self, dtype, na_value)\u001b[0m\n\u001b[1;32m   1751\u001b[0m             \u001b[0;32melse\u001b[0m\u001b[0;34m:\u001b[0m\u001b[0;34m\u001b[0m\u001b[0;34m\u001b[0m\u001b[0m\n\u001b[1;32m   1752\u001b[0m                 \u001b[0marr\u001b[0m \u001b[0;34m=\u001b[0m \u001b[0mblk\u001b[0m\u001b[0;34m.\u001b[0m\u001b[0mget_values\u001b[0m\u001b[0;34m(\u001b[0m\u001b[0mdtype\u001b[0m\u001b[0;34m)\u001b[0m\u001b[0;34m\u001b[0m\u001b[0;34m\u001b[0m\u001b[0m\n\u001b[0;32m-> 1753\u001b[0;31m             \u001b[0mresult\u001b[0m\u001b[0;34m[\u001b[0m\u001b[0mrl\u001b[0m\u001b[0;34m.\u001b[0m\u001b[0mindexer\u001b[0m\u001b[0;34m]\u001b[0m \u001b[0;34m=\u001b[0m \u001b[0marr\u001b[0m\u001b[0;34m\u001b[0m\u001b[0;34m\u001b[0m\u001b[0m\n\u001b[0m\u001b[1;32m   1754\u001b[0m             \u001b[0mitemmask\u001b[0m\u001b[0;34m[\u001b[0m\u001b[0mrl\u001b[0m\u001b[0;34m.\u001b[0m\u001b[0mindexer\u001b[0m\u001b[0;34m]\u001b[0m \u001b[0;34m=\u001b[0m \u001b[0;36m1\u001b[0m\u001b[0;34m\u001b[0m\u001b[0;34m\u001b[0m\u001b[0m\n\u001b[1;32m   1755\u001b[0m \u001b[0;34m\u001b[0m\u001b[0m\n",
            "\u001b[0;31mValueError\u001b[0m: could not convert string to float: 'setosa'"
          ]
        }
      ]
    },
    {
      "cell_type": "markdown",
      "source": [
        "22.Generate a dataset and implement both variance and standard deviation computations.\n"
      ],
      "metadata": {
        "id": "RSfrSK33qL2-"
      }
    },
    {
      "cell_type": "code",
      "source": [
        "import numpy as np\n",
        "\n",
        "# Generate a random dataset of 100 values from a normal distribution\n",
        "data = np.random.normal(loc=50, scale=10, size=100)\n",
        "\n",
        "# Compute variance\n",
        "variance = np.var(data)  # by default, population variance (denominator n)\n",
        "\n",
        "# Compute standard deviation\n",
        "std_dev = np.std(data)  # by default, population standard deviation\n",
        "\n",
        "print(f\"Variance: {variance:.2f}\")\n",
        "print(f\"Standard Deviation: {std_dev:.2f}\")\n"
      ],
      "metadata": {
        "colab": {
          "base_uri": "https://localhost:8080/"
        },
        "id": "AvtHBP_eqG7E",
        "outputId": "d359d965-6456-4f4e-dda1-740a17334408"
      },
      "execution_count": 29,
      "outputs": [
        {
          "output_type": "stream",
          "name": "stdout",
          "text": [
            "Variance: 103.42\n",
            "Standard Deviation: 10.17\n"
          ]
        }
      ]
    },
    {
      "cell_type": "markdown",
      "source": [
        "23.Visualize skewness and kurtosis using Python libraries like matplotlib or seaborn.\n"
      ],
      "metadata": {
        "id": "HoPo0PrNqaeI"
      }
    },
    {
      "cell_type": "code",
      "source": [
        "import numpy as np\n",
        "import pandas as pd\n",
        "import seaborn as sns\n",
        "import matplotlib.pyplot as plt\n",
        "from scipy.stats import skew, kurtosis\n",
        "\n",
        "# Generate sample data\n",
        "np.random.seed(0)\n",
        "data = np.random.randn(100, 5)  # 100 samples, 5 variables\n",
        "\n",
        "# Create DataFrame\n",
        "df = pd.DataFrame(data, columns=['A', 'B', 'C', 'D', 'E'])\n",
        "\n",
        "# Calculate skewness and kurtosis for each column\n",
        "skewness = df.apply(skew)\n",
        "kurt = df.apply(kurtosis)  # excess kurtosis (Fisher’s definition)\n",
        "\n",
        "# Create a DataFrame for plotting\n",
        "stats_df = pd.DataFrame({'Skewness': skewness, 'Kurtosis': kurt})\n",
        "\n",
        "# Plot side-by-side bar plots\n",
        "plt.figure(figsize=(10, 6))\n",
        "stats_df.plot(kind='bar', rot=0)\n",
        "plt.title('Skewness and Kurtosis for Variables')\n",
        "plt.ylabel('Value')\n",
        "plt.grid(axis='y')\n",
        "plt.show()\n"
      ],
      "metadata": {
        "colab": {
          "base_uri": "https://localhost:8080/",
          "height": 469
        },
        "id": "dg-LHQ-WqYSp",
        "outputId": "60f97ada-4a91-468e-c7df-ac967a42807c"
      },
      "execution_count": 30,
      "outputs": [
        {
          "output_type": "display_data",
          "data": {
            "text/plain": [
              "<Figure size 1000x600 with 0 Axes>"
            ]
          },
          "metadata": {}
        },
        {
          "output_type": "display_data",
          "data": {
            "text/plain": [
              "<Figure size 640x480 with 1 Axes>"
            ],
            "image/png": "[encoded data removed]"
          },
          "metadata": {}
        }
      ]
    },
    {
      "cell_type": "markdown",
      "source": [
        "24.Implement the Pearson and Spearman correlation coefficients for a dataset."
      ],
      "metadata": {
        "id": "ZV5OfUQ1qpUI"
      }
    },
    {
      "cell_type": "code",
      "source": [
        "import numpy as np\n",
        "import pandas as pd\n",
        "from scipy.stats import spearmanr\n",
        "\n",
        "# Generate sample data\n",
        "np.random.seed(42)\n",
        "data = np.random.randn(100, 4)  # 100 samples, 4 variables\n",
        "df = pd.DataFrame(data, columns=['W', 'X', 'Y', 'Z'])\n",
        "\n",
        "# Calculate Pearson correlation matrix (using pandas)\n",
        "pearson_corr = df.corr(method='pearson')\n",
        "\n",
        "# Calculate Spearman correlation matrix (using scipy)\n",
        "# We need to calculate pairwise correlations manually or use pandas\n",
        "spearman_corr, _ = spearmanr(df)\n",
        "spearman_corr_df = pd.DataFrame(spearman_corr, index=df.columns, columns=df.columns)\n",
        "\n",
        "print(\"Pearson Correlation Matrix:\")\n",
        "print(pearson_corr)\n",
        "\n",
        "print(\"\\nSpearman Correlation Matrix:\")\n",
        "print(spearman_corr_df)\n"
      ],
      "metadata": {
        "colab": {
          "base_uri": "https://localhost:8080/"
        },
        "id": "So0Iuu5sqmRJ",
        "outputId": "68ee89ef-3931-49bf-b07f-be9d818d828c"
      },
      "execution_count": 31,
      "outputs": [
        {
          "output_type": "stream",
          "name": "stdout",
          "text": [
            "Pearson Correlation Matrix:\n",
            "          W         X         Y         Z\n",
            "W  1.000000 -0.016390  0.017745 -0.019994\n",
            "X -0.016390  1.000000 -0.033668  0.136856\n",
            "Y  0.017745 -0.033668  1.000000 -0.038070\n",
            "Z -0.019994  0.136856 -0.038070  1.000000\n",
            "\n",
            "Spearman Correlation Matrix:\n",
            "          W         X         Y         Z\n",
            "W  1.000000  0.053321 -0.000432  0.008989\n",
            "X  0.053321  1.000000 -0.057678  0.098446\n",
            "Y -0.000432 -0.057678  1.000000 -0.040984\n",
            "Z  0.008989  0.098446 -0.040984  1.000000\n"
          ]
        }
      ]
    },
    {
      "cell_type": "code",
      "source": [],
      "metadata": {
        "id": "R--3VMY2qyPq"
      },
      "execution_count": null,
      "outputs": []
    }
  ]
}